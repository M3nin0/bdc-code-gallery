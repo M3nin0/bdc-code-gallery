{
 "cells": [
  {
   "cell_type": "markdown",
   "metadata": {},
   "source": [
    "<img src=\"../../../img/logo-bdc.png\" align=\"right\" width=\"64\"/>\n",
    "\n",
    "# <span style=\"color:#336699\"> Web Land Trajectory Service (WLTS)</span>\n",
    "<hr style=\"border:2px solid #0077b9;\">\n"
   ]
  },
  {
   "cell_type": "markdown",
   "metadata": {},
   "source": [
    "**W**eb **L**and **T**rajectory **S**ervice (WLTS) is a service that aims to facilitate the access to various land use and cover data collections through a tailored API. WLTS brings the concept of Land Use and Cover Trajectories as a high level abstraction.  Given a location and a time interval you can retrieve the trajectory of the these various data collections.\n",
    "\n",
    "WLTS is based on three operations:\n",
    "\n",
    "- ``list_collections``: returns the list of collections available in the service.\n",
    "\n",
    "- ``describe_collection``: returns the metadata of a given data collection.\n",
    "\n",
    "- ``trajectory``: returns the land use and cover trajectory from the collections given a location in space. The property result contains the feature identifier information, class, time, and the collection associated to the data item.\n",
    "\n",
    "This Jupyter Notebook shows how to use R Client Library for Web Land Trajectory Service."
   ]
  },
  {
   "cell_type": "markdown",
   "metadata": {},
   "source": [
    "# 1. R Client API\n",
    "<hr style=\"border:1px solid #0077b9;\">"
   ]
  },
  {
   "cell_type": "markdown",
   "metadata": {},
   "source": [
    "For running the examples in this Jupyter Notebook you will need to install the [WLTS client for R](https://github.com/brazil-data-cube/rwlts). The command below installs `rwlts` direct from the code repository of the Brazil Data Cube project using [devtools](https://www.r-project.org/nosvn/pandoc/devtools.html).\n",
    "\n",
    "> [devtools](https://www.r-project.org/nosvn/pandoc/devtools.html) devtools is an R package that provides features that facilitate day-to-day development activities using the R environment. If you do not have the package installed, use the command below to install it.\n",
    "\n",
    "```r\n",
    "# only run this if you don't have devtools installed\n",
    "install.packages(\"devtools\")\n",
    "```"
   ]
  },
  {
   "cell_type": "code",
   "execution_count": 1,
   "metadata": {},
   "outputs": [],
   "source": [
    "devtools::install_github(\"brazil-data-cube/rwlts\")"
   ]
  },
  {
   "cell_type": "markdown",
   "metadata": {},
   "source": [
    "With the package installed, to make use of its features, you need to load the package. In the R language, the package can be loaded as shown below:"
   ]
  },
  {
   "cell_type": "code",
   "execution_count": 2,
   "metadata": {},
   "outputs": [],
   "source": [
    "library(rwlts)"
   ]
  },
  {
   "cell_type": "markdown",
   "metadata": {},
   "source": [
    "WLTS is a client-server service. On the server-side, the data is stored, which is accessible through each of the API operations, described earlier. On the client-side (what this tutorial covers), you can use the operations and consume the data. In this tutorial, we will use the R client to access the data. We need to define the URL where the WLTS server is operating. The code below defines the URL of the WLTS server"
   ]
  },
  {
   "cell_type": "code",
   "execution_count": 3,
   "metadata": {
    "scrolled": true
   },
   "outputs": [],
   "source": [
    "wlts_service <- \"https://brazildatacube.dpi.inpe.br/wlts/\""
   ]
  },
  {
   "cell_type": "markdown",
   "metadata": {},
   "source": [
    "# 2. Listing the Available Collections\n",
    "<hr style=\"border:1px solid #0077b9;\">"
   ]
  },
  {
   "cell_type": "markdown",
   "metadata": {},
   "source": [
    "In WLTS, datasets that aggregate features from different classification systems, which various projects can generate, are represented through collections. \n",
    "\n",
    "Thus, the first operation presented is `list_collections`. This operation returns the list of all data collections that are available in the WLTS. In the rwlts client, this operation is used via the `list_collections` function. The function takes as a parameter the address of the server to be queried."
   ]
  },
  {
   "cell_type": "code",
   "execution_count": 4,
   "metadata": {},
   "outputs": [
    {
     "data": {
      "text/html": [
       "<style>\n",
       ".list-inline {list-style: none; margin:0; padding: 0}\n",
       ".list-inline>li {display: inline-block}\n",
       ".list-inline>li:not(:last-child)::after {content: \"\\00b7\"; padding: 0 .5ex}\n",
       "</style>\n",
       "<ol class=list-inline><li>'terraclass_amazonia'</li><li>'deter_amazonia_legal'</li><li>'deter_cerrado'</li><li>'prodes_cerrado'</li><li>'prodes_amazonia_legal'</li><li>'lapig_cerrado_pasture'</li><li>'ibge_cobertura_uso_terra'</li><li>'mapbiomas5_amazonia'</li><li>'mapbiomas5_cerrado'</li><li>'mapbiomas5_caatinga'</li><li>'mapbiomas5_mata_atlantica'</li><li>'mapbiomas5_pampa'</li><li>'mapbiomas5_pantanal'</li></ol>\n"
      ],
      "text/latex": [
       "\\begin{enumerate*}\n",
       "\\item 'terraclass\\_amazonia'\n",
       "\\item 'deter\\_amazonia\\_legal'\n",
       "\\item 'deter\\_cerrado'\n",
       "\\item 'prodes\\_cerrado'\n",
       "\\item 'prodes\\_amazonia\\_legal'\n",
       "\\item 'lapig\\_cerrado\\_pasture'\n",
       "\\item 'ibge\\_cobertura\\_uso\\_terra'\n",
       "\\item 'mapbiomas5\\_amazonia'\n",
       "\\item 'mapbiomas5\\_cerrado'\n",
       "\\item 'mapbiomas5\\_caatinga'\n",
       "\\item 'mapbiomas5\\_mata\\_atlantica'\n",
       "\\item 'mapbiomas5\\_pampa'\n",
       "\\item 'mapbiomas5\\_pantanal'\n",
       "\\end{enumerate*}\n"
      ],
      "text/markdown": [
       "1. 'terraclass_amazonia'\n",
       "2. 'deter_amazonia_legal'\n",
       "3. 'deter_cerrado'\n",
       "4. 'prodes_cerrado'\n",
       "5. 'prodes_amazonia_legal'\n",
       "6. 'lapig_cerrado_pasture'\n",
       "7. 'ibge_cobertura_uso_terra'\n",
       "8. 'mapbiomas5_amazonia'\n",
       "9. 'mapbiomas5_cerrado'\n",
       "10. 'mapbiomas5_caatinga'\n",
       "11. 'mapbiomas5_mata_atlantica'\n",
       "12. 'mapbiomas5_pampa'\n",
       "13. 'mapbiomas5_pantanal'\n",
       "\n",
       "\n"
      ],
      "text/plain": [
       " [1] \"terraclass_amazonia\"       \"deter_amazonia_legal\"     \n",
       " [3] \"deter_cerrado\"             \"prodes_cerrado\"           \n",
       " [5] \"prodes_amazonia_legal\"     \"lapig_cerrado_pasture\"    \n",
       " [7] \"ibge_cobertura_uso_terra\"  \"mapbiomas5_amazonia\"      \n",
       " [9] \"mapbiomas5_cerrado\"        \"mapbiomas5_caatinga\"      \n",
       "[11] \"mapbiomas5_mata_atlantica\" \"mapbiomas5_pampa\"         \n",
       "[13] \"mapbiomas5_pantanal\"      "
      ]
     },
     "metadata": {},
     "output_type": "display_data"
    }
   ],
   "source": [
    "list_collections(wlts_service)"
   ]
  },
  {
   "cell_type": "markdown",
   "metadata": {},
   "source": [
    "The names returned can be used in subsequent operations."
   ]
  },
  {
   "cell_type": "markdown",
   "metadata": {},
   "source": [
    "# 3. Retrieving the Metadata of a collection\n",
    "<hr style=\"border:1px solid #0077b9;\">\n"
   ]
  },
  {
   "cell_type": "markdown",
   "metadata": {},
   "source": [
    "Each collection is associated with a set of metadata that describes it. In WLTS a, there is the describe_collection operation, which allows the retrieval of this information. In rwlts, this operation is used through the `describe_collection`.\n",
    "\n",
    "> The example below retrieves the metadata from the collection named `mapbiomas5_amazonia`\n"
   ]
  },
  {
   "cell_type": "code",
   "execution_count": 5,
   "metadata": {},
   "outputs": [
    {
     "data": {
      "text/html": [
       "<dl>\n",
       "\t<dt>$classification_system</dt>\n",
       "\t\t<dd><dl>\n",
       "\t<dt>$classification_system_id</dt>\n",
       "\t\t<dd>'32'</dd>\n",
       "\t<dt>$classification_system_name</dt>\n",
       "\t\t<dd>'MapBiomas5'</dd>\n",
       "\t<dt>$type</dt>\n",
       "\t\t<dd>'Feature'</dd>\n",
       "</dl>\n",
       "</dd>\n",
       "\t<dt>$collection_type</dt>\n",
       "\t\t<dd>'Image'</dd>\n",
       "\t<dt>$description</dt>\n",
       "\t\t<dd>'Esta é a Coleção 5.0 do MapBiomas que inclui dados anuais de cobertura e uso do solo da Amazônia para o período de 2000 a 2019.'</dd>\n",
       "\t<dt>$detail</dt>\n",
       "\t\t<dd>'Projeto MapBiomas – Coleção 5 da Série Anual de Mapas de Cobertura e Uso de Solo do Brasil, acessado em 17 Novembro de 2020 através do link: https://mapbiomas.org/'</dd>\n",
       "\t<dt>$name</dt>\n",
       "\t\t<dd>'mapbiomas5_amazonia'</dd>\n",
       "\t<dt>$period</dt>\n",
       "\t\t<dd><dl>\n",
       "\t<dt>$end_date</dt>\n",
       "\t\t<dd>'2019'</dd>\n",
       "\t<dt>$start_date</dt>\n",
       "\t\t<dd>'2000'</dd>\n",
       "</dl>\n",
       "</dd>\n",
       "\t<dt>$resolution_unit</dt>\n",
       "\t\t<dd><dl>\n",
       "\t<dt>$unit</dt>\n",
       "\t\t<dd>'YEAR'</dd>\n",
       "\t<dt>$value</dt>\n",
       "\t\t<dd>'1'</dd>\n",
       "</dl>\n",
       "</dd>\n",
       "\t<dt>$spatial_extent</dt>\n",
       "\t\t<dd><dl>\n",
       "\t<dt>$max_x</dt>\n",
       "\t\t<dd>'-43.3991385117971'</dd>\n",
       "\t<dt>$max_y</dt>\n",
       "\t\t<dd>'-16.6620417213773'</dd>\n",
       "\t<dt>$min_x</dt>\n",
       "\t\t<dd>'-73.9832705064587'</dd>\n",
       "\t<dt>$min_y</dt>\n",
       "\t\t<dd>'5.26969711970194'</dd>\n",
       "</dl>\n",
       "</dd>\n",
       "</dl>\n"
      ],
      "text/latex": [
       "\\begin{description}\n",
       "\\item[\\$classification\\_system] \\begin{description}\n",
       "\\item[\\$classification\\_system\\_id] '32'\n",
       "\\item[\\$classification\\_system\\_name] 'MapBiomas5'\n",
       "\\item[\\$type] 'Feature'\n",
       "\\end{description}\n",
       "\n",
       "\\item[\\$collection\\_type] 'Image'\n",
       "\\item[\\$description] 'Esta é a Coleção 5.0 do MapBiomas que inclui dados anuais de cobertura e uso do solo da Amazônia para o período de 2000 a 2019.'\n",
       "\\item[\\$detail] 'Projeto MapBiomas – Coleção 5 da Série Anual de Mapas de Cobertura e Uso de Solo do Brasil, acessado em 17 Novembro de 2020 através do link: https://mapbiomas.org/'\n",
       "\\item[\\$name] 'mapbiomas5\\_amazonia'\n",
       "\\item[\\$period] \\begin{description}\n",
       "\\item[\\$end\\_date] '2019'\n",
       "\\item[\\$start\\_date] '2000'\n",
       "\\end{description}\n",
       "\n",
       "\\item[\\$resolution\\_unit] \\begin{description}\n",
       "\\item[\\$unit] 'YEAR'\n",
       "\\item[\\$value] '1'\n",
       "\\end{description}\n",
       "\n",
       "\\item[\\$spatial\\_extent] \\begin{description}\n",
       "\\item[\\$max\\_x] '-43.3991385117971'\n",
       "\\item[\\$max\\_y] '-16.6620417213773'\n",
       "\\item[\\$min\\_x] '-73.9832705064587'\n",
       "\\item[\\$min\\_y] '5.26969711970194'\n",
       "\\end{description}\n",
       "\n",
       "\\end{description}\n"
      ],
      "text/markdown": [
       "$classification_system\n",
       ":   $classification_system_id\n",
       ":   '32'\n",
       "$classification_system_name\n",
       ":   'MapBiomas5'\n",
       "$type\n",
       ":   'Feature'\n",
       "\n",
       "\n",
       "\n",
       "$collection_type\n",
       ":   'Image'\n",
       "$description\n",
       ":   'Esta é a Coleção 5.0 do MapBiomas que inclui dados anuais de cobertura e uso do solo da Amazônia para o período de 2000 a 2019.'\n",
       "$detail\n",
       ":   'Projeto MapBiomas – Coleção 5 da Série Anual de Mapas de Cobertura e Uso de Solo do Brasil, acessado em 17 Novembro de 2020 através do link: https://mapbiomas.org/'\n",
       "$name\n",
       ":   'mapbiomas5_amazonia'\n",
       "$period\n",
       ":   $end_date\n",
       ":   '2019'\n",
       "$start_date\n",
       ":   '2000'\n",
       "\n",
       "\n",
       "\n",
       "$resolution_unit\n",
       ":   $unit\n",
       ":   'YEAR'\n",
       "$value\n",
       ":   '1'\n",
       "\n",
       "\n",
       "\n",
       "$spatial_extent\n",
       ":   $max_x\n",
       ":   '-43.3991385117971'\n",
       "$max_y\n",
       ":   '-16.6620417213773'\n",
       "$min_x\n",
       ":   '-73.9832705064587'\n",
       "$min_y\n",
       ":   '5.26969711970194'\n",
       "\n",
       "\n",
       "\n",
       "\n",
       "\n"
      ],
      "text/plain": [
       "$classification_system\n",
       "$classification_system$classification_system_id\n",
       "[1] \"32\"\n",
       "\n",
       "$classification_system$classification_system_name\n",
       "[1] \"MapBiomas5\"\n",
       "\n",
       "$classification_system$type\n",
       "[1] \"Feature\"\n",
       "\n",
       "\n",
       "$collection_type\n",
       "[1] \"Image\"\n",
       "\n",
       "$description\n",
       "[1] \"Esta é a Coleção 5.0 do MapBiomas que inclui dados anuais de cobertura e uso do solo da Amazônia para o período de 2000 a 2019.\"\n",
       "\n",
       "$detail\n",
       "[1] \"Projeto MapBiomas – Coleção 5 da Série Anual de Mapas de Cobertura e Uso de Solo do Brasil, acessado em 17 Novembro de 2020 através do link: https://mapbiomas.org/\"\n",
       "\n",
       "$name\n",
       "[1] \"mapbiomas5_amazonia\"\n",
       "\n",
       "$period\n",
       "$period$end_date\n",
       "[1] \"2019\"\n",
       "\n",
       "$period$start_date\n",
       "[1] \"2000\"\n",
       "\n",
       "\n",
       "$resolution_unit\n",
       "$resolution_unit$unit\n",
       "[1] \"YEAR\"\n",
       "\n",
       "$resolution_unit$value\n",
       "[1] \"1\"\n",
       "\n",
       "\n",
       "$spatial_extent\n",
       "$spatial_extent$max_x\n",
       "[1] \"-43.3991385117971\"\n",
       "\n",
       "$spatial_extent$max_y\n",
       "[1] \"-16.6620417213773\"\n",
       "\n",
       "$spatial_extent$min_x\n",
       "[1] \"-73.9832705064587\"\n",
       "\n",
       "$spatial_extent$min_y\n",
       "[1] \"5.26969711970194\"\n",
       "\n"
      ]
     },
     "metadata": {},
     "output_type": "display_data"
    }
   ],
   "source": [
    "describe_collection(wlts_service, 'mapbiomas5_amazonia')"
   ]
  },
  {
   "cell_type": "markdown",
   "metadata": {},
   "source": [
    "# 4. Retrieving the Trajectory\n",
    "<hr style=\"border:1px solid #0077b9;\">"
   ]
  },
  {
   "cell_type": "markdown",
   "metadata": {},
   "source": [
    "<br>\n",
    "\n",
    "**Single collections**\n",
    "\n",
    "In WLTS, since a collection is associated with a dataset with time variation, it is possible to retrieve the land use and land cover trajectory of a given point. The figure below illustrates this process."
   ]
  },
  {
   "cell_type": "markdown",
   "metadata": {},
   "source": [
    "<br>\n",
    "<div align=\"center\">\n",
    "  <img src=\"../../../img/wlts/traj1.png\" width=\"700px\">\n",
    "   \n",
    "   \n",
    "  <div align=\"center\">\n",
    "      <b>Figure 1</b> - WLTS trajectory extraction\n",
    "  </div>\n",
    "</div>"
   ]
  },
  {
   "cell_type": "markdown",
   "metadata": {},
   "source": [
    "The operation in WLTS that allows the retrieval of the trajectory as shown in the figure is `trajectory`. This operation is used in rwlts through the `get_trajectory` function.\n",
    "\n",
    "> The `get_trajectory` function receives the service URL to be queried, the location, and the collection name.\n",
    "\n",
    "The example below shows get_trajectory to retrieve the point with the location at `latitude -12.0` and `longitude -54.0`. \n",
    "\n",
    "> The CRS of the requests is EPSG:4326"
   ]
  },
  {
   "cell_type": "code",
   "execution_count": 6,
   "metadata": {},
   "outputs": [
    {
     "data": {
      "text/plain": [
       "$query\n",
       "NULL\n",
       "\n",
       "$result\n",
       "\u001b[90m# A tibble: 20 x 4\u001b[39m\n",
       "   class              collection          date  point_id\n",
       "   \u001b[3m\u001b[90m<chr>\u001b[39m\u001b[23m              \u001b[3m\u001b[90m<chr>\u001b[39m\u001b[23m               \u001b[3m\u001b[90m<chr>\u001b[39m\u001b[23m    \u001b[3m\u001b[90m<int>\u001b[39m\u001b[23m\n",
       "\u001b[90m 1\u001b[39m Formação Florestal mapbiomas5_amazonia 2000         1\n",
       "\u001b[90m 2\u001b[39m Formação Florestal mapbiomas5_amazonia 2001         1\n",
       "\u001b[90m 3\u001b[39m Formação Florestal mapbiomas5_amazonia 2002         1\n",
       "\u001b[90m 4\u001b[39m Formação Florestal mapbiomas5_amazonia 2003         1\n",
       "\u001b[90m 5\u001b[39m Formação Florestal mapbiomas5_amazonia 2004         1\n",
       "\u001b[90m 6\u001b[39m Formação Florestal mapbiomas5_amazonia 2005         1\n",
       "\u001b[90m 7\u001b[39m Formação Florestal mapbiomas5_amazonia 2006         1\n",
       "\u001b[90m 8\u001b[39m Formação Florestal mapbiomas5_amazonia 2007         1\n",
       "\u001b[90m 9\u001b[39m Formação Florestal mapbiomas5_amazonia 2008         1\n",
       "\u001b[90m10\u001b[39m Formação Florestal mapbiomas5_amazonia 2009         1\n",
       "\u001b[90m11\u001b[39m Formação Florestal mapbiomas5_amazonia 2010         1\n",
       "\u001b[90m12\u001b[39m Formação Florestal mapbiomas5_amazonia 2011         1\n",
       "\u001b[90m13\u001b[39m Formação Florestal mapbiomas5_amazonia 2012         1\n",
       "\u001b[90m14\u001b[39m Formação Florestal mapbiomas5_amazonia 2013         1\n",
       "\u001b[90m15\u001b[39m Formação Florestal mapbiomas5_amazonia 2014         1\n",
       "\u001b[90m16\u001b[39m Formação Florestal mapbiomas5_amazonia 2015         1\n",
       "\u001b[90m17\u001b[39m Formação Florestal mapbiomas5_amazonia 2016         1\n",
       "\u001b[90m18\u001b[39m Formação Florestal mapbiomas5_amazonia 2017         1\n",
       "\u001b[90m19\u001b[39m Formação Florestal mapbiomas5_amazonia 2018         1\n",
       "\u001b[90m20\u001b[39m Formação Florestal mapbiomas5_amazonia 2019         1\n",
       "\n",
       "attr(,\"class\")\n",
       "[1] \"wlts\""
      ]
     },
     "metadata": {},
     "output_type": "display_data"
    }
   ],
   "source": [
    "tj = get_trajectory(wlts_service, latitude=-12.0, longitude=-54.0, collections='mapbiomas5_amazonia')\n",
    "tj"
   ]
  },
  {
   "cell_type": "markdown",
   "metadata": {},
   "source": [
    "One more point can be passed. To do this, it is necessary to pass pairs of values to the `latitude` and `longitude` arguments\n",
    "\n",
    "> In the example below the points `(-12.0, -54.0)` and `(-12.59, -54.5)` are being recovered.\n",
    "\n",
    "> **Note**, the returned `id` column is inserted to identify each of the points being passed to the function. Thus, the point of `id` 1 represents the first latitude/longitude pair gave. The `id` 2 represents the second pair, and so on.\n"
   ]
  },
  {
   "cell_type": "code",
   "execution_count": 7,
   "metadata": {},
   "outputs": [
    {
     "data": {
      "text/plain": [
       "$query\n",
       "NULL\n",
       "\n",
       "$result\n",
       "\u001b[90m# A tibble: 40 x 4\u001b[39m\n",
       "   class              collection          date  point_id\n",
       "   \u001b[3m\u001b[90m<chr>\u001b[39m\u001b[23m              \u001b[3m\u001b[90m<chr>\u001b[39m\u001b[23m               \u001b[3m\u001b[90m<chr>\u001b[39m\u001b[23m    \u001b[3m\u001b[90m<int>\u001b[39m\u001b[23m\n",
       "\u001b[90m 1\u001b[39m Formação Florestal mapbiomas5_amazonia 2000         1\n",
       "\u001b[90m 2\u001b[39m Formação Florestal mapbiomas5_amazonia 2001         1\n",
       "\u001b[90m 3\u001b[39m Formação Florestal mapbiomas5_amazonia 2002         1\n",
       "\u001b[90m 4\u001b[39m Formação Florestal mapbiomas5_amazonia 2003         1\n",
       "\u001b[90m 5\u001b[39m Formação Florestal mapbiomas5_amazonia 2004         1\n",
       "\u001b[90m 6\u001b[39m Formação Florestal mapbiomas5_amazonia 2005         1\n",
       "\u001b[90m 7\u001b[39m Formação Florestal mapbiomas5_amazonia 2006         1\n",
       "\u001b[90m 8\u001b[39m Formação Florestal mapbiomas5_amazonia 2007         1\n",
       "\u001b[90m 9\u001b[39m Formação Florestal mapbiomas5_amazonia 2008         1\n",
       "\u001b[90m10\u001b[39m Formação Florestal mapbiomas5_amazonia 2009         1\n",
       "\u001b[90m# … with 30 more rows\u001b[39m\n",
       "\n",
       "attr(,\"class\")\n",
       "[1] \"wlts\""
      ]
     },
     "metadata": {},
     "output_type": "display_data"
    }
   ],
   "source": [
    "tj = get_trajectory(wlts_service, latitude=c(-12.0, -12.59), longitude=c(-54.0, -54.5), collections='mapbiomas5_amazonia')\n",
    "tj"
   ]
  },
  {
   "cell_type": "markdown",
   "metadata": {},
   "source": [
    "<br>\n",
    "\n",
    "**Multiple collections**\n",
    "\n",
    "So far, all our queries have been made considering only one data collection. WLTS allows more than one collection to be accessed at the same time for the same point.  By doing this, a trajectory for each project will be extracted. This way of operation is illustrated by the figure below.\n",
    "\n",
    "<br>\n",
    "\n",
    "<div align=\"center\">\n",
    "  <img src=\"../../../img/wlts/traj2.png\" width=\"800px\">\n",
    "   \n",
    "   \n",
    "  <div align=\"center\">\n",
    "      <b>Figure 2</b> - WLTS trajectory extraction using multiple collections\n",
    "  </div>\n",
    "</div>\n",
    "\n"
   ]
  },
  {
   "cell_type": "markdown",
   "metadata": {},
   "source": [
    "To retrieve multiple collections, insert each collection's name that needs to be queried into the get_trajectory function. The names are entered in the collections parameter and must be separated by a comma.\n",
    "\n",
    "\n",
    "As an example, the code below retrieves the trajectories considering the collections `mapbiomas5_amazonia` and `terraclass_amazonia`.\n"
   ]
  },
  {
   "cell_type": "code",
   "execution_count": 8,
   "metadata": {},
   "outputs": [
    {
     "data": {
      "text/plain": [
       "$query\n",
       "NULL\n",
       "\n",
       "$result\n",
       "\u001b[90m# A tibble: 25 x 4\u001b[39m\n",
       "   class              collection          date  point_id\n",
       "   \u001b[3m\u001b[90m<chr>\u001b[39m\u001b[23m              \u001b[3m\u001b[90m<chr>\u001b[39m\u001b[23m               \u001b[3m\u001b[90m<chr>\u001b[39m\u001b[23m    \u001b[3m\u001b[90m<int>\u001b[39m\u001b[23m\n",
       "\u001b[90m 1\u001b[39m Formação Florestal mapbiomas5_amazonia 2000         1\n",
       "\u001b[90m 2\u001b[39m Formação Florestal mapbiomas5_amazonia 2001         1\n",
       "\u001b[90m 3\u001b[39m Formação Florestal mapbiomas5_amazonia 2002         1\n",
       "\u001b[90m 4\u001b[39m Formação Florestal mapbiomas5_amazonia 2003         1\n",
       "\u001b[90m 5\u001b[39m Formação Florestal mapbiomas5_amazonia 2004         1\n",
       "\u001b[90m 6\u001b[39m Floresta           terraclass_amazonia 2004         1\n",
       "\u001b[90m 7\u001b[39m Formação Florestal mapbiomas5_amazonia 2005         1\n",
       "\u001b[90m 8\u001b[39m Formação Florestal mapbiomas5_amazonia 2006         1\n",
       "\u001b[90m 9\u001b[39m Formação Florestal mapbiomas5_amazonia 2007         1\n",
       "\u001b[90m10\u001b[39m Formação Florestal mapbiomas5_amazonia 2008         1\n",
       "\u001b[90m# … with 15 more rows\u001b[39m\n",
       "\n",
       "attr(,\"class\")\n",
       "[1] \"wlts\""
      ]
     },
     "metadata": {},
     "output_type": "display_data"
    }
   ],
   "source": [
    "tj = get_trajectory(wlts_service, latitude=-12.0, longitude=-54.0, collections='mapbiomas5_amazonia,terraclass_amazonia')\n",
    "tj"
   ]
  },
  {
   "cell_type": "markdown",
   "metadata": {},
   "source": [
    "# 5. Visualizing the Trajectory with Tibble\n",
    "<hr style=\"border:1px solid #0077b9;\">"
   ]
  },
  {
   "cell_type": "markdown",
   "metadata": {},
   "source": [
    "When data is retrieved from the server, it is inserted in a [tibble](https://tibble.tidyverse.org/), allowing easy manipulation. To make its use is necessary to access the information present in the `result` key in the result returned by the `get_trajectory` function."
   ]
  },
  {
   "cell_type": "code",
   "execution_count": 9,
   "metadata": {},
   "outputs": [
    {
     "data": {
      "text/html": [
       "<table class=\"dataframe\">\n",
       "<caption>A tibble: 5 × 4</caption>\n",
       "<thead>\n",
       "\t<tr><th scope=col>class</th><th scope=col>collection</th><th scope=col>date</th><th scope=col>point_id</th></tr>\n",
       "\t<tr><th scope=col>&lt;chr&gt;</th><th scope=col>&lt;chr&gt;</th><th scope=col>&lt;chr&gt;</th><th scope=col>&lt;int&gt;</th></tr>\n",
       "</thead>\n",
       "<tbody>\n",
       "\t<tr><td>Formação Florestal</td><td>mapbiomas5_amazonia</td><td>2000</td><td>1</td></tr>\n",
       "\t<tr><td>Formação Florestal</td><td>mapbiomas5_amazonia</td><td>2001</td><td>1</td></tr>\n",
       "\t<tr><td>Formação Florestal</td><td>mapbiomas5_amazonia</td><td>2002</td><td>1</td></tr>\n",
       "\t<tr><td>Formação Florestal</td><td>mapbiomas5_amazonia</td><td>2003</td><td>1</td></tr>\n",
       "\t<tr><td>Formação Florestal</td><td>mapbiomas5_amazonia</td><td>2004</td><td>1</td></tr>\n",
       "</tbody>\n",
       "</table>\n"
      ],
      "text/latex": [
       "A tibble: 5 × 4\n",
       "\\begin{tabular}{llll}\n",
       " class & collection & date & point\\_id\\\\\n",
       " <chr> & <chr> & <chr> & <int>\\\\\n",
       "\\hline\n",
       "\t Formação Florestal & mapbiomas5\\_amazonia & 2000 & 1\\\\\n",
       "\t Formação Florestal & mapbiomas5\\_amazonia & 2001 & 1\\\\\n",
       "\t Formação Florestal & mapbiomas5\\_amazonia & 2002 & 1\\\\\n",
       "\t Formação Florestal & mapbiomas5\\_amazonia & 2003 & 1\\\\\n",
       "\t Formação Florestal & mapbiomas5\\_amazonia & 2004 & 1\\\\\n",
       "\\end{tabular}\n"
      ],
      "text/markdown": [
       "\n",
       "A tibble: 5 × 4\n",
       "\n",
       "| class &lt;chr&gt; | collection &lt;chr&gt; | date &lt;chr&gt; | point_id &lt;int&gt; |\n",
       "|---|---|---|---|\n",
       "| Formação Florestal | mapbiomas5_amazonia | 2000 | 1 |\n",
       "| Formação Florestal | mapbiomas5_amazonia | 2001 | 1 |\n",
       "| Formação Florestal | mapbiomas5_amazonia | 2002 | 1 |\n",
       "| Formação Florestal | mapbiomas5_amazonia | 2003 | 1 |\n",
       "| Formação Florestal | mapbiomas5_amazonia | 2004 | 1 |\n",
       "\n"
      ],
      "text/plain": [
       "  class              collection          date point_id\n",
       "1 Formação Florestal mapbiomas5_amazonia 2000 1       \n",
       "2 Formação Florestal mapbiomas5_amazonia 2001 1       \n",
       "3 Formação Florestal mapbiomas5_amazonia 2002 1       \n",
       "4 Formação Florestal mapbiomas5_amazonia 2003 1       \n",
       "5 Formação Florestal mapbiomas5_amazonia 2004 1       "
      ]
     },
     "metadata": {},
     "output_type": "display_data"
    }
   ],
   "source": [
    "tj = get_trajectory(wlts_service, latitude=-12.0, longitude=-54.0, collections='mapbiomas5_amazonia')\n",
    "\n",
    "head(tj$result, 5)"
   ]
  },
  {
   "cell_type": "code",
   "execution_count": 10,
   "metadata": {},
   "outputs": [
    {
     "data": {
      "text/html": [
       "<table class=\"dataframe\">\n",
       "<caption>A tibble: 5 × 4</caption>\n",
       "<thead>\n",
       "\t<tr><th scope=col>class</th><th scope=col>collection</th><th scope=col>date</th><th scope=col>point_id</th></tr>\n",
       "\t<tr><th scope=col>&lt;chr&gt;</th><th scope=col>&lt;chr&gt;</th><th scope=col>&lt;chr&gt;</th><th scope=col>&lt;int&gt;</th></tr>\n",
       "</thead>\n",
       "<tbody>\n",
       "\t<tr><td>Rio, Lago e Oceano</td><td>mapbiomas5_amazonia</td><td>2000</td><td>1</td></tr>\n",
       "\t<tr><td>Rio, Lago e Oceano</td><td>mapbiomas5_amazonia</td><td>2001</td><td>1</td></tr>\n",
       "\t<tr><td>Rio, Lago e Oceano</td><td>mapbiomas5_amazonia</td><td>2002</td><td>1</td></tr>\n",
       "\t<tr><td>Rio, Lago e Oceano</td><td>mapbiomas5_amazonia</td><td>2003</td><td>1</td></tr>\n",
       "\t<tr><td>Rio, Lago e Oceano</td><td>mapbiomas5_amazonia</td><td>2004</td><td>1</td></tr>\n",
       "</tbody>\n",
       "</table>\n"
      ],
      "text/latex": [
       "A tibble: 5 × 4\n",
       "\\begin{tabular}{llll}\n",
       " class & collection & date & point\\_id\\\\\n",
       " <chr> & <chr> & <chr> & <int>\\\\\n",
       "\\hline\n",
       "\t Rio, Lago e Oceano & mapbiomas5\\_amazonia & 2000 & 1\\\\\n",
       "\t Rio, Lago e Oceano & mapbiomas5\\_amazonia & 2001 & 1\\\\\n",
       "\t Rio, Lago e Oceano & mapbiomas5\\_amazonia & 2002 & 1\\\\\n",
       "\t Rio, Lago e Oceano & mapbiomas5\\_amazonia & 2003 & 1\\\\\n",
       "\t Rio, Lago e Oceano & mapbiomas5\\_amazonia & 2004 & 1\\\\\n",
       "\\end{tabular}\n"
      ],
      "text/markdown": [
       "\n",
       "A tibble: 5 × 4\n",
       "\n",
       "| class &lt;chr&gt; | collection &lt;chr&gt; | date &lt;chr&gt; | point_id &lt;int&gt; |\n",
       "|---|---|---|---|\n",
       "| Rio, Lago e Oceano | mapbiomas5_amazonia | 2000 | 1 |\n",
       "| Rio, Lago e Oceano | mapbiomas5_amazonia | 2001 | 1 |\n",
       "| Rio, Lago e Oceano | mapbiomas5_amazonia | 2002 | 1 |\n",
       "| Rio, Lago e Oceano | mapbiomas5_amazonia | 2003 | 1 |\n",
       "| Rio, Lago e Oceano | mapbiomas5_amazonia | 2004 | 1 |\n",
       "\n"
      ],
      "text/plain": [
       "  class              collection          date point_id\n",
       "1 Rio, Lago e Oceano mapbiomas5_amazonia 2000 1       \n",
       "2 Rio, Lago e Oceano mapbiomas5_amazonia 2001 1       \n",
       "3 Rio, Lago e Oceano mapbiomas5_amazonia 2002 1       \n",
       "4 Rio, Lago e Oceano mapbiomas5_amazonia 2003 1       \n",
       "5 Rio, Lago e Oceano mapbiomas5_amazonia 2004 1       "
      ]
     },
     "metadata": {},
     "output_type": "display_data"
    }
   ],
   "source": [
    "tj = get_trajectory(wlts_service, latitude=-4.090, longitude=-63.353, collections='mapbiomas5_amazonia')\n",
    "\n",
    "head(tj$result, 5)"
   ]
  },
  {
   "cell_type": "code",
   "execution_count": 11,
   "metadata": {},
   "outputs": [
    {
     "data": {
      "text/html": [
       "<table class=\"dataframe\">\n",
       "<caption>A tibble: 5 × 4</caption>\n",
       "<thead>\n",
       "\t<tr><th scope=col>class</th><th scope=col>collection</th><th scope=col>date</th><th scope=col>point_id</th></tr>\n",
       "\t<tr><th scope=col>&lt;chr&gt;</th><th scope=col>&lt;chr&gt;</th><th scope=col>&lt;chr&gt;</th><th scope=col>&lt;int&gt;</th></tr>\n",
       "</thead>\n",
       "<tbody>\n",
       "\t<tr><td>Formação Florestal</td><td>mapbiomas5_amazonia</td><td>2000</td><td>1</td></tr>\n",
       "\t<tr><td>Formação Florestal</td><td>mapbiomas5_amazonia</td><td>2001</td><td>1</td></tr>\n",
       "\t<tr><td>Formação Florestal</td><td>mapbiomas5_amazonia</td><td>2002</td><td>1</td></tr>\n",
       "\t<tr><td>Formação Florestal</td><td>mapbiomas5_amazonia</td><td>2003</td><td>1</td></tr>\n",
       "\t<tr><td>Formação Florestal</td><td>mapbiomas5_amazonia</td><td>2004</td><td>1</td></tr>\n",
       "</tbody>\n",
       "</table>\n"
      ],
      "text/latex": [
       "A tibble: 5 × 4\n",
       "\\begin{tabular}{llll}\n",
       " class & collection & date & point\\_id\\\\\n",
       " <chr> & <chr> & <chr> & <int>\\\\\n",
       "\\hline\n",
       "\t Formação Florestal & mapbiomas5\\_amazonia & 2000 & 1\\\\\n",
       "\t Formação Florestal & mapbiomas5\\_amazonia & 2001 & 1\\\\\n",
       "\t Formação Florestal & mapbiomas5\\_amazonia & 2002 & 1\\\\\n",
       "\t Formação Florestal & mapbiomas5\\_amazonia & 2003 & 1\\\\\n",
       "\t Formação Florestal & mapbiomas5\\_amazonia & 2004 & 1\\\\\n",
       "\\end{tabular}\n"
      ],
      "text/markdown": [
       "\n",
       "A tibble: 5 × 4\n",
       "\n",
       "| class &lt;chr&gt; | collection &lt;chr&gt; | date &lt;chr&gt; | point_id &lt;int&gt; |\n",
       "|---|---|---|---|\n",
       "| Formação Florestal | mapbiomas5_amazonia | 2000 | 1 |\n",
       "| Formação Florestal | mapbiomas5_amazonia | 2001 | 1 |\n",
       "| Formação Florestal | mapbiomas5_amazonia | 2002 | 1 |\n",
       "| Formação Florestal | mapbiomas5_amazonia | 2003 | 1 |\n",
       "| Formação Florestal | mapbiomas5_amazonia | 2004 | 1 |\n",
       "\n"
      ],
      "text/plain": [
       "  class              collection          date point_id\n",
       "1 Formação Florestal mapbiomas5_amazonia 2000 1       \n",
       "2 Formação Florestal mapbiomas5_amazonia 2001 1       \n",
       "3 Formação Florestal mapbiomas5_amazonia 2002 1       \n",
       "4 Formação Florestal mapbiomas5_amazonia 2003 1       \n",
       "5 Formação Florestal mapbiomas5_amazonia 2004 1       "
      ]
     },
     "metadata": {},
     "output_type": "display_data"
    }
   ],
   "source": [
    "tj = get_trajectory(wlts_service, latitude=c(-12.0, -12.59), longitude=c(-54.0, -54.5), collections='mapbiomas5_amazonia')\n",
    "\n",
    "head(tj$result, 5)"
   ]
  },
  {
   "cell_type": "markdown",
   "metadata": {},
   "source": [
    "# 6. References\n",
    "<hr style=\"border:1px solid #0077b9;\">"
   ]
  },
  {
   "cell_type": "markdown",
   "metadata": {},
   "source": [
    "To learn more about the WLTS ecosystem, see the Brazil Data Cube project repositories on github\n",
    "\n",
    "\n",
    "- [WLTS Server](https://github.com/brazil-data-cube/wlts)\n",
    "\n",
    "- [WLTS OpenAPI 3 Specification](https://github.com/brazil-data-cube/wlts-spec)\n",
    "\n",
    "- [R Client Library for Web Land Trajectory Service - GitHub Repository](https://github.com/brazil-data-cube/rwlts)"
   ]
  }
 ],
 "metadata": {
  "celltoolbar": "Raw Cell Format",
  "kernelspec": {
   "display_name": "SITS",
   "language": "R",
   "name": "sits"
  },
  "language_info": {
   "codemirror_mode": "r",
   "file_extension": ".r",
   "mimetype": "text/x-r-source",
   "name": "R",
   "pygments_lexer": "r",
   "version": "4.0.3"
  }
 },
 "nbformat": 4,
 "nbformat_minor": 4
}
